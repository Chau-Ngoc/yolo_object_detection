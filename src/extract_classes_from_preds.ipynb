{
  "cells": [
    {
      "cell_type": "code",
      "execution_count": 1,
      "id": "initial_id",
      "metadata": {
        "ExecuteTime": {
          "end_time": "2025-04-06T03:01:53.796650Z",
          "start_time": "2025-04-06T03:01:53.624660Z"
        },
        "collapsed": true
      },
      "outputs": [],
      "source": [
        "import numpy as np"
      ]
    },
    {
      "cell_type": "code",
      "execution_count": 2,
      "id": "159304e351811493",
      "metadata": {
        "ExecuteTime": {
          "end_time": "2025-04-06T03:01:53.816594Z",
          "start_time": "2025-04-06T03:01:53.804913Z"
        }
      },
      "outputs": [],
      "source": [
        "rng = np.random.default_rng()"
      ]
    },
    {
      "cell_type": "code",
      "execution_count": 3,
      "id": "3d2c1140382c348a",
      "metadata": {
        "ExecuteTime": {
          "end_time": "2025-04-06T03:01:53.983980Z",
          "start_time": "2025-04-06T03:01:53.978029Z"
        }
      },
      "outputs": [],
      "source": [
        "bbox = rng.integers(0, 500, size=(300, 4))\n",
        "conf = rng.random((300, 1))\n",
        "class_idx = rng.integers(0, 19, size=(300, 1), endpoint=True)\n",
        "\n",
        "preds = np.concatenate((bbox, conf, class_idx), axis=1)"
      ]
    },
    {
      "cell_type": "code",
      "execution_count": 4,
      "id": "25d2f56d34e39102",
      "metadata": {
        "ExecuteTime": {
          "end_time": "2025-04-06T03:01:54.029345Z",
          "start_time": "2025-04-06T03:01:54.023905Z"
        }
      },
      "outputs": [
        {
          "data": {
            "text/plain": [
              "(300, 6)"
            ]
          },
          "execution_count": 4,
          "metadata": {},
          "output_type": "execute_result"
        }
      ],
      "source": [
        "preds.shape"
      ]
    },
    {
      "cell_type": "code",
      "execution_count": 5,
      "id": "da25d95ea9a64841",
      "metadata": {
        "ExecuteTime": {
          "end_time": "2025-04-06T03:01:54.140783Z",
          "start_time": "2025-04-06T03:01:54.136496Z"
        }
      },
      "outputs": [],
      "source": [
        "def get_preds_for_classes(preds: np.ndarray, classes: tuple) -> np.ndarray:\n",
        "    \"\"\"Return the new array that contains only the predictions of the specified classes.\"\"\"\n",
        "    indices = np.isin(preds[:, 5], classes)\n",
        "    return preds[indices]"
      ]
    },
    {
      "cell_type": "code",
      "execution_count": 6,
      "id": "39019af8b9cf5bdf",
      "metadata": {
        "ExecuteTime": {
          "end_time": "2025-04-06T03:01:54.187534Z",
          "start_time": "2025-04-06T03:01:54.184682Z"
        }
      },
      "outputs": [],
      "source": [
        "classes = get_preds_for_classes(preds, (1, 2, 14, 15))"
      ]
    },
    {
      "cell_type": "code",
      "execution_count": 7,
      "id": "1a0893bd5da7712c",
      "metadata": {
        "ExecuteTime": {
          "end_time": "2025-04-06T03:01:54.245388Z",
          "start_time": "2025-04-06T03:01:54.231524Z"
        }
      },
      "outputs": [
        {
          "data": {
            "text/plain": [
              "array([ 1.,  2., 14., 15.])"
            ]
          },
          "execution_count": 7,
          "metadata": {},
          "output_type": "execute_result"
        }
      ],
      "source": [
        "np.unique(classes[:, 5])"
      ]
    },
    {
      "cell_type": "code",
      "execution_count": null,
      "id": "154b084f3d3bf0f",
      "metadata": {},
      "outputs": [],
      "source": ""
    }
  ],
  "metadata": {
    "kernelspec": {
      "display_name": "Python 3",
      "language": "python",
      "name": "python3"
    },
    "language_info": {
      "codemirror_mode": {
        "name": "ipython",
        "version": 2
      },
      "file_extension": ".py",
      "mimetype": "text/x-python",
      "name": "python",
      "nbconvert_exporter": "python",
      "pygments_lexer": "ipython2",
      "version": "2.7.6"
    }
  },
  "nbformat": 4,
  "nbformat_minor": 5
}
